{
 "cells": [
  {
   "cell_type": "markdown",
   "id": "9664911e-6865-4d17-a2b3-177a39feb946",
   "metadata": {},
   "source": [
    "# Solana Technical Advantage:\n",
    "\n",
    "- Fast confirmation time\n",
    "- Low Transaction fees\n",
    "\n"
   ]
  }
 ],
 "metadata": {
  "kernelspec": {
   "display_name": "Python 3 (ipykernel)",
   "language": "python",
   "name": "python3"
  },
  "language_info": {
   "codemirror_mode": {
    "name": "ipython",
    "version": 3
   },
   "file_extension": ".py",
   "mimetype": "text/x-python",
   "name": "python",
   "nbconvert_exporter": "python",
   "pygments_lexer": "ipython3",
   "version": "3.12.4"
  }
 },
 "nbformat": 4,
 "nbformat_minor": 5
}
